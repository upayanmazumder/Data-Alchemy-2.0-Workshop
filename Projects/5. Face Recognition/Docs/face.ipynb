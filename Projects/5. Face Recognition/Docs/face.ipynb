{
  "cells": [
    {
      "cell_type": "markdown",
      "metadata": {
        "id": "nCKfH_kD2Au1"
      },
      "source": [
        "## Step 1: Install OpenCV\n",
        "In this step, we install the required libraries for OpenCV to work on Google Colab."
      ]
    },
    {
      "cell_type": "code",
      "execution_count": 1,
      "metadata": {
        "colab": {
          "base_uri": "https://localhost:8080/"
        },
        "id": "dEX4epm8syXL",
        "outputId": "532cb601-dc22-4029-9251-eab580d8305b"
      },
      "outputs": [
        {
          "output_type": "stream",
          "name": "stdout",
          "text": [
            "Requirement already satisfied: opencv-python in /usr/local/lib/python3.10/dist-packages (4.10.0.84)\n",
            "Requirement already satisfied: numpy>=1.21.2 in /usr/local/lib/python3.10/dist-packages (from opencv-python) (1.26.4)\n",
            "Requirement already satisfied: opencv-python-headless in /usr/local/lib/python3.10/dist-packages (4.10.0.84)\n",
            "Requirement already satisfied: numpy>=1.21.2 in /usr/local/lib/python3.10/dist-packages (from opencv-python-headless) (1.26.4)\n",
            "Requirement already satisfied: opencv-contrib-python in /usr/local/lib/python3.10/dist-packages (4.10.0.84)\n",
            "Requirement already satisfied: numpy>=1.21.2 in /usr/local/lib/python3.10/dist-packages (from opencv-contrib-python) (1.26.4)\n"
          ]
        }
      ],
      "source": [
        "# Install OpenCV to work with images\n",
        "!pip install opencv-python\n",
        "!pip install opencv-python-headless  # Headless version of OpenCV (no GUI, necessary for Colab)\n",
        "!pip install opencv-contrib-python"
      ]
    },
    {
      "cell_type": "markdown",
      "metadata": {
        "id": "A4vfR_MT2v9_"
      },
      "source": [
        "## Step 2: Unzip the Dataset\n",
        "Once the dataset is uploaded, we will unzip it into a directory for further use."
      ]
    },
    {
      "cell_type": "code",
      "execution_count": 2,
      "metadata": {
        "id": "f2aTwRSIvdXZ"
      },
      "outputs": [],
      "source": [
        "# Step 3: Unzip the Dataset\n",
        "import zipfile\n",
        "import os\n",
        "\n",
        "zip_file_path = 'dataset.zip'  # Replace with the actual zip file name\n",
        "\n",
        "with zipfile.ZipFile(zip_file_path, 'r') as zip_ref:\n",
        "    zip_ref.extractall('dataset')  # Extracts to a folder named 'dataset'\n"
      ]
    },
    {
      "cell_type": "markdown",
      "metadata": {
        "id": "t5f2Sp9Y27Z_"
      },
      "source": [
        "## Step 3: Import Required Libraries\n",
        "We import the necessary libraries to work with OpenCV and handle arrays."
      ]
    },
    {
      "cell_type": "code",
      "execution_count": 3,
      "metadata": {
        "id": "aO79o0fys-Ff"
      },
      "outputs": [],
      "source": [
        "# Import OpenCV for image processing\n",
        "import cv2\n",
        "\n",
        "# Import NumPy to handle arrays and matrices\n",
        "import numpy as np\n"
      ]
    },
    {
      "cell_type": "markdown",
      "metadata": {
        "id": "TCcijNto3Bzj"
      },
      "source": [
        "## Step 4: Load and Preprocess Images\n",
        "We load images from the unzipped dataset folder and associate them with labels based on folder names."
      ]
    },
    {
      "cell_type": "code",
      "execution_count": 4,
      "metadata": {
        "id": "LcR_7FYa1OhE"
      },
      "outputs": [],
      "source": [
        "# Function to load images from a folder and map them to labels\n",
        "def load_images_from_folder(folder):\n",
        "    images = []  # List to store the images\n",
        "    labels = []  # List to store corresponding labels\n",
        "    label_map = {}  # Dictionary to map label numbers to person names\n",
        "\n",
        "    # Loop through each subfolder (each person's folder) in the dataset\n",
        "    for label, person_name in enumerate(os.listdir(folder)):\n",
        "        person_folder = os.path.join(folder, person_name)  # Path to the person's folder\n",
        "        label_map[label] = person_name  # Map label number to person's name\n",
        "\n",
        "        # Loop through each image file in the person's folder\n",
        "        for img_name in os.listdir(person_folder):\n",
        "            img_path = os.path.join(person_folder, img_name)  # Full path to the image\n",
        "            img = cv2.imread(img_path, cv2.IMREAD_GRAYSCALE)  # Load the image in grayscale\n",
        "\n",
        "            # If image is successfully loaded, add it to the list\n",
        "            if img is not None:\n",
        "                images.append(img)  # Add the image to the images list\n",
        "                labels.append(label)  # Add the corresponding label\n",
        "\n",
        "    return images, labels, label_map  # Return the images, labels, and label map\n",
        "\n",
        "# Load the training images and their corresponding labels from the 'train_data' folder\n",
        "train_images, train_labels, label_map = load_images_from_folder('dataset/dataset/train_data')\n"
      ]
    },
    {
      "cell_type": "markdown",
      "metadata": {
        "id": "T7Pdxp4v3W4t"
      },
      "source": [
        "## Step 5: Train the Face Recognition Model\n",
        "We will use the LBPH (Local Binary Patterns Histograms) face recognizer to train the model."
      ]
    },
    {
      "cell_type": "code",
      "execution_count": 5,
      "metadata": {
        "id": "urkw3a7d1W2Z"
      },
      "outputs": [],
      "source": [
        "model = cv2.face_LBPHFaceRecognizer.create()\n",
        "\n",
        "# Train the model on the training images and labels\n",
        "model.train(train_images, np.array(train_labels))\n"
      ]
    },
    {
      "cell_type": "markdown",
      "metadata": {
        "id": "W77GgfLa3Z9O"
      },
      "source": [
        "## Step 6: Testing the Model\n",
        "Finally, we test the trained model on images from the test dataset."
      ]
    },
    {
      "cell_type": "code",
      "execution_count": 6,
      "metadata": {
        "colab": {
          "base_uri": "https://localhost:8080/"
        },
        "id": "8KGNUh4H1bq4",
        "outputId": "4e054702-348b-419c-d080-5f52a93b329d"
      },
      "outputs": [
        {
          "output_type": "stream",
          "name": "stdout",
          "text": [
            "Image: 37.png is recognized as: Tanisha with confidence: 0.0\n",
            "Image: 10.png is recognized as: Sahil with confidence: 0.0\n",
            "Image: 1.png is recognized as: Mayank with confidence: 0.0\n"
          ]
        }
      ],
      "source": [
        "# Function to test the face recognition model with images from a test folder\n",
        "def test_model(model, test_folder):\n",
        "    # Loop through each image in the test folder\n",
        "    for img_name in os.listdir(test_folder):\n",
        "        img_path = os.path.join(test_folder, img_name)  # Full path to the test image\n",
        "        img = cv2.imread(img_path, cv2.IMREAD_GRAYSCALE)  # Load the image in grayscale\n",
        "\n",
        "        # If image is successfully loaded, predict the label\n",
        "        if img is not None:\n",
        "            label, confidence = model.predict(img)  # Predict the person's label and get confidence score\n",
        "            print(f\"Image: {img_name} is recognized as: {label_map[label]} with confidence: {confidence}\")\n",
        "\n",
        "# Test the model with images from the 'test_data' folder\n",
        "test_model(model, 'dataset/dataset/test_data')\n"
      ]
    }
  ],
  "metadata": {
    "accelerator": "GPU",
    "colab": {
      "gpuType": "T4",
      "provenance": []
    },
    "kernelspec": {
      "display_name": "Python 3",
      "name": "python3"
    },
    "language_info": {
      "codemirror_mode": {
        "name": "ipython",
        "version": 3
      },
      "file_extension": ".py",
      "mimetype": "text/x-python",
      "name": "python",
      "nbconvert_exporter": "python",
      "pygments_lexer": "ipython3",
      "version": "3.10.9"
    }
  },
  "nbformat": 4,
  "nbformat_minor": 0
}