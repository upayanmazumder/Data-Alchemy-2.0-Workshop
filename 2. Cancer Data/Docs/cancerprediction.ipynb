{
  "cells": [
    {
      "cell_type": "markdown",
      "metadata": {
        "id": "nd156FU9MbEQ"
      },
      "source": [
        "# Cancer Data Prediction with Multiple Models\n",
        "\n",
        "This notebook demonstrates how to predict cancer diagnoses using various machine learning models, including Simple Linear Regression, Multiple Linear Regression, Polynomial Regression, SVR, Random Forest, Decision Tree, Logistic Regression, KNN, SVM, Kernel SVM, and Naive Bayes. We will also perform hyperparameter tuning using Grid Search to optimize model performance.\n",
        "\n",
        "\n"
      ]
    },
    {
      "cell_type": "markdown",
      "metadata": {
        "id": "69LBIX40XfGN"
      },
      "source": [
        "## Step 1: Import Required Libraries"
      ]
    },
    {
      "cell_type": "code",
      "execution_count": 2,
      "metadata": {
        "id": "Ahsa_PIlMjd7"
      },
      "outputs": [],
      "source": [
        "# Importing necessary libraries for data handling, visualization, and machine learning models.\n",
        "import numpy as np\n",
        "import pandas as pd\n",
        "from sklearn.model_selection import train_test_split, GridSearchCV # For splitting the dataset and performing hyperparameter tuning\n",
        "from sklearn.preprocessing import StandardScaler, PolynomialFeatures # For data scaling and polynomial features\n",
        "from sklearn import svm # Support Vector Machine model\n",
        "from sklearn.ensemble import RandomForestClassifier # Random Forest model\n",
        "from sklearn.linear_model import LogisticRegression, LinearRegression # Logistic and Linear Regression models\n",
        "from sklearn.metrics import accuracy_score # For calculating accuracy of models\n",
        "from sklearn.neighbors import KNeighborsClassifier # K-Nearest Neighbors model\n",
        "from sklearn.tree import DecisionTreeClassifier # Decision Tree model\n",
        "from sklearn.svm import SVR # Support Vector Regression model\n",
        "from sklearn.naive_bayes import GaussianNB # Naive Bayes model\n",
        "import matplotlib.pyplot as plt # For visualizing results"
      ]
    },
    {
      "cell_type": "markdown",
      "metadata": {
        "id": "qIBc5bwNN13I"
      },
      "source": [
        "## Step 2: Load and Preprocess the Data"
      ]
    },
    {
      "cell_type": "code",
      "execution_count": 2,
      "metadata": {
        "id": "4z2mlstuX9EH"
      },
      "outputs": [],
      "source": [
        "# Load the dataset into a pandas DataFrame\n",
        "data = pd.read_csv(\"Cancer_Data.csv\")"
      ]
    },
    {
      "cell_type": "code",
      "execution_count": 3,
      "metadata": {},
      "outputs": [
        {
          "data": {
            "text/html": [
              "<div>\n",
              "<style scoped>\n",
              "    .dataframe tbody tr th:only-of-type {\n",
              "        vertical-align: middle;\n",
              "    }\n",
              "\n",
              "    .dataframe tbody tr th {\n",
              "        vertical-align: top;\n",
              "    }\n",
              "\n",
              "    .dataframe thead th {\n",
              "        text-align: right;\n",
              "    }\n",
              "</style>\n",
              "<table border=\"1\" class=\"dataframe\">\n",
              "  <thead>\n",
              "    <tr style=\"text-align: right;\">\n",
              "      <th></th>\n",
              "      <th>id</th>\n",
              "      <th>diagnosis</th>\n",
              "      <th>radius_mean</th>\n",
              "      <th>texture_mean</th>\n",
              "      <th>perimeter_mean</th>\n",
              "      <th>area_mean</th>\n",
              "      <th>smoothness_mean</th>\n",
              "      <th>compactness_mean</th>\n",
              "      <th>concavity_mean</th>\n",
              "      <th>concave points_mean</th>\n",
              "      <th>...</th>\n",
              "      <th>texture_worst</th>\n",
              "      <th>perimeter_worst</th>\n",
              "      <th>area_worst</th>\n",
              "      <th>smoothness_worst</th>\n",
              "      <th>compactness_worst</th>\n",
              "      <th>concavity_worst</th>\n",
              "      <th>concave points_worst</th>\n",
              "      <th>symmetry_worst</th>\n",
              "      <th>fractal_dimension_worst</th>\n",
              "      <th>Unnamed: 32</th>\n",
              "    </tr>\n",
              "  </thead>\n",
              "  <tbody>\n",
              "    <tr>\n",
              "      <th>0</th>\n",
              "      <td>842302</td>\n",
              "      <td>M</td>\n",
              "      <td>17.99</td>\n",
              "      <td>10.38</td>\n",
              "      <td>122.80</td>\n",
              "      <td>1001.0</td>\n",
              "      <td>0.11840</td>\n",
              "      <td>0.27760</td>\n",
              "      <td>0.3001</td>\n",
              "      <td>0.14710</td>\n",
              "      <td>...</td>\n",
              "      <td>17.33</td>\n",
              "      <td>184.60</td>\n",
              "      <td>2019.0</td>\n",
              "      <td>0.1622</td>\n",
              "      <td>0.6656</td>\n",
              "      <td>0.7119</td>\n",
              "      <td>0.2654</td>\n",
              "      <td>0.4601</td>\n",
              "      <td>0.11890</td>\n",
              "      <td>NaN</td>\n",
              "    </tr>\n",
              "    <tr>\n",
              "      <th>1</th>\n",
              "      <td>842517</td>\n",
              "      <td>M</td>\n",
              "      <td>20.57</td>\n",
              "      <td>17.77</td>\n",
              "      <td>132.90</td>\n",
              "      <td>1326.0</td>\n",
              "      <td>0.08474</td>\n",
              "      <td>0.07864</td>\n",
              "      <td>0.0869</td>\n",
              "      <td>0.07017</td>\n",
              "      <td>...</td>\n",
              "      <td>23.41</td>\n",
              "      <td>158.80</td>\n",
              "      <td>1956.0</td>\n",
              "      <td>0.1238</td>\n",
              "      <td>0.1866</td>\n",
              "      <td>0.2416</td>\n",
              "      <td>0.1860</td>\n",
              "      <td>0.2750</td>\n",
              "      <td>0.08902</td>\n",
              "      <td>NaN</td>\n",
              "    </tr>\n",
              "    <tr>\n",
              "      <th>2</th>\n",
              "      <td>84300903</td>\n",
              "      <td>M</td>\n",
              "      <td>19.69</td>\n",
              "      <td>21.25</td>\n",
              "      <td>130.00</td>\n",
              "      <td>1203.0</td>\n",
              "      <td>0.10960</td>\n",
              "      <td>0.15990</td>\n",
              "      <td>0.1974</td>\n",
              "      <td>0.12790</td>\n",
              "      <td>...</td>\n",
              "      <td>25.53</td>\n",
              "      <td>152.50</td>\n",
              "      <td>1709.0</td>\n",
              "      <td>0.1444</td>\n",
              "      <td>0.4245</td>\n",
              "      <td>0.4504</td>\n",
              "      <td>0.2430</td>\n",
              "      <td>0.3613</td>\n",
              "      <td>0.08758</td>\n",
              "      <td>NaN</td>\n",
              "    </tr>\n",
              "    <tr>\n",
              "      <th>3</th>\n",
              "      <td>84348301</td>\n",
              "      <td>M</td>\n",
              "      <td>11.42</td>\n",
              "      <td>20.38</td>\n",
              "      <td>77.58</td>\n",
              "      <td>386.1</td>\n",
              "      <td>0.14250</td>\n",
              "      <td>0.28390</td>\n",
              "      <td>0.2414</td>\n",
              "      <td>0.10520</td>\n",
              "      <td>...</td>\n",
              "      <td>26.50</td>\n",
              "      <td>98.87</td>\n",
              "      <td>567.7</td>\n",
              "      <td>0.2098</td>\n",
              "      <td>0.8663</td>\n",
              "      <td>0.6869</td>\n",
              "      <td>0.2575</td>\n",
              "      <td>0.6638</td>\n",
              "      <td>0.17300</td>\n",
              "      <td>NaN</td>\n",
              "    </tr>\n",
              "    <tr>\n",
              "      <th>4</th>\n",
              "      <td>84358402</td>\n",
              "      <td>M</td>\n",
              "      <td>20.29</td>\n",
              "      <td>14.34</td>\n",
              "      <td>135.10</td>\n",
              "      <td>1297.0</td>\n",
              "      <td>0.10030</td>\n",
              "      <td>0.13280</td>\n",
              "      <td>0.1980</td>\n",
              "      <td>0.10430</td>\n",
              "      <td>...</td>\n",
              "      <td>16.67</td>\n",
              "      <td>152.20</td>\n",
              "      <td>1575.0</td>\n",
              "      <td>0.1374</td>\n",
              "      <td>0.2050</td>\n",
              "      <td>0.4000</td>\n",
              "      <td>0.1625</td>\n",
              "      <td>0.2364</td>\n",
              "      <td>0.07678</td>\n",
              "      <td>NaN</td>\n",
              "    </tr>\n",
              "  </tbody>\n",
              "</table>\n",
              "<p>5 rows × 33 columns</p>\n",
              "</div>"
            ],
            "text/plain": [
              "         id diagnosis  radius_mean  texture_mean  perimeter_mean  area_mean  \\\n",
              "0    842302         M        17.99         10.38          122.80     1001.0   \n",
              "1    842517         M        20.57         17.77          132.90     1326.0   \n",
              "2  84300903         M        19.69         21.25          130.00     1203.0   \n",
              "3  84348301         M        11.42         20.38           77.58      386.1   \n",
              "4  84358402         M        20.29         14.34          135.10     1297.0   \n",
              "\n",
              "   smoothness_mean  compactness_mean  concavity_mean  concave points_mean  \\\n",
              "0          0.11840           0.27760          0.3001              0.14710   \n",
              "1          0.08474           0.07864          0.0869              0.07017   \n",
              "2          0.10960           0.15990          0.1974              0.12790   \n",
              "3          0.14250           0.28390          0.2414              0.10520   \n",
              "4          0.10030           0.13280          0.1980              0.10430   \n",
              "\n",
              "   ...  texture_worst  perimeter_worst  area_worst  smoothness_worst  \\\n",
              "0  ...          17.33           184.60      2019.0            0.1622   \n",
              "1  ...          23.41           158.80      1956.0            0.1238   \n",
              "2  ...          25.53           152.50      1709.0            0.1444   \n",
              "3  ...          26.50            98.87       567.7            0.2098   \n",
              "4  ...          16.67           152.20      1575.0            0.1374   \n",
              "\n",
              "   compactness_worst  concavity_worst  concave points_worst  symmetry_worst  \\\n",
              "0             0.6656           0.7119                0.2654          0.4601   \n",
              "1             0.1866           0.2416                0.1860          0.2750   \n",
              "2             0.4245           0.4504                0.2430          0.3613   \n",
              "3             0.8663           0.6869                0.2575          0.6638   \n",
              "4             0.2050           0.4000                0.1625          0.2364   \n",
              "\n",
              "   fractal_dimension_worst  Unnamed: 32  \n",
              "0                  0.11890          NaN  \n",
              "1                  0.08902          NaN  \n",
              "2                  0.08758          NaN  \n",
              "3                  0.17300          NaN  \n",
              "4                  0.07678          NaN  \n",
              "\n",
              "[5 rows x 33 columns]"
            ]
          },
          "execution_count": 3,
          "metadata": {},
          "output_type": "execute_result"
        }
      ],
      "source": [
        "data.head()"
      ]
    },
    {
      "cell_type": "code",
      "execution_count": 4,
      "metadata": {},
      "outputs": [
        {
          "data": {
            "text/plain": [
              "Index(['id', 'diagnosis', 'radius_mean', 'texture_mean', 'perimeter_mean',\n",
              "       'area_mean', 'smoothness_mean', 'compactness_mean', 'concavity_mean',\n",
              "       'concave points_mean', 'symmetry_mean', 'fractal_dimension_mean',\n",
              "       'radius_se', 'texture_se', 'perimeter_se', 'area_se', 'smoothness_se',\n",
              "       'compactness_se', 'concavity_se', 'concave points_se', 'symmetry_se',\n",
              "       'fractal_dimension_se', 'radius_worst', 'texture_worst',\n",
              "       'perimeter_worst', 'area_worst', 'smoothness_worst',\n",
              "       'compactness_worst', 'concavity_worst', 'concave points_worst',\n",
              "       'symmetry_worst', 'fractal_dimension_worst', 'Unnamed: 32'],\n",
              "      dtype='object')"
            ]
          },
          "execution_count": 4,
          "metadata": {},
          "output_type": "execute_result"
        }
      ],
      "source": [
        "data.columns"
      ]
    },
    {
      "cell_type": "code",
      "execution_count": 5,
      "metadata": {
        "id": "eb_XPh7TYzjp"
      },
      "outputs": [],
      "source": [
        "# Drop unnecessary columns ('Unnamed: 32' and 'id') that don't provide useful information for prediction\n",
        "data.drop([\"Unnamed: 32\", \"id\"], axis=1, inplace=True)"
      ]
    },
    {
      "cell_type": "code",
      "execution_count": 6,
      "metadata": {
        "id": "PF_YBQaVY2EX"
      },
      "outputs": [],
      "source": [
        "# Convert diagnosis column into binary values: 1 for malignant (M), 0 for benign (B)\n",
        "data.diagnosis = [1 if each == \"M\" else 0 for each in data.diagnosis]"
      ]
    },
    {
      "cell_type": "code",
      "execution_count": 7,
      "metadata": {
        "id": "AO7Pn8G_Y5Uf"
      },
      "outputs": [],
      "source": [
        "# Separate features (x_data) and target variable (y)\n",
        "x_data = data.drop([\"diagnosis\"], axis=1) # Features are all columns except 'diagnosis'\n",
        "y = data.diagnosis.values # Target variable is 'diagnosis'"
      ]
    },
    {
      "cell_type": "code",
      "execution_count": 8,
      "metadata": {
        "id": "kedBy-qUZDin"
      },
      "outputs": [],
      "source": [
        "# Normalize the feature data using min-max scaling\n",
        "x = (x_data - x_data.min()) / (x_data.max() - x_data.min())"
      ]
    },
    {
      "cell_type": "code",
      "execution_count": 9,
      "metadata": {
        "colab": {
          "base_uri": "https://localhost:8080/"
        },
        "id": "MWwv1c1_ZJlB",
        "outputId": "69773952-e8f3-4417-acfe-e2fa5c046439"
      },
      "outputs": [
        {
          "name": "stdout",
          "output_type": "stream",
          "text": [
            "   radius_mean  texture_mean  perimeter_mean  area_mean  smoothness_mean  \\\n",
            "0     0.521037      0.022658        0.545989   0.363733         0.593753   \n",
            "1     0.643144      0.272574        0.615783   0.501591         0.289880   \n",
            "2     0.601496      0.390260        0.595743   0.449417         0.514309   \n",
            "3     0.210090      0.360839        0.233501   0.102906         0.811321   \n",
            "4     0.629893      0.156578        0.630986   0.489290         0.430351   \n",
            "\n",
            "   compactness_mean  concavity_mean  concave points_mean  symmetry_mean  \\\n",
            "0          0.792037        0.703140             0.731113       0.686364   \n",
            "1          0.181768        0.203608             0.348757       0.379798   \n",
            "2          0.431017        0.462512             0.635686       0.509596   \n",
            "3          0.811361        0.565604             0.522863       0.776263   \n",
            "4          0.347893        0.463918             0.518390       0.378283   \n",
            "\n",
            "   fractal_dimension_mean  ...  radius_worst  texture_worst  perimeter_worst  \\\n",
            "0                0.605518  ...      0.620776       0.141525         0.668310   \n",
            "1                0.141323  ...      0.606901       0.303571         0.539818   \n",
            "2                0.211247  ...      0.556386       0.360075         0.508442   \n",
            "3                1.000000  ...      0.248310       0.385928         0.241347   \n",
            "4                0.186816  ...      0.519744       0.123934         0.506948   \n",
            "\n",
            "   area_worst  smoothness_worst  compactness_worst  concavity_worst  \\\n",
            "0    0.450698          0.601136           0.619292         0.568610   \n",
            "1    0.435214          0.347553           0.154563         0.192971   \n",
            "2    0.374508          0.483590           0.385375         0.359744   \n",
            "3    0.094008          0.915472           0.814012         0.548642   \n",
            "4    0.341575          0.437364           0.172415         0.319489   \n",
            "\n",
            "   concave points_worst  symmetry_worst  fractal_dimension_worst  \n",
            "0              0.912027        0.598462                 0.418864  \n",
            "1              0.639175        0.233590                 0.222878  \n",
            "2              0.835052        0.403706                 0.213433  \n",
            "3              0.884880        1.000000                 0.773711  \n",
            "4              0.558419        0.157500                 0.142595  \n",
            "\n",
            "[5 rows x 30 columns]\n",
            "[1 1 1 1 1]\n"
          ]
        }
      ],
      "source": [
        "# Now x contains the normalized features, and y contains the binary target\n",
        "print(x.head())\n",
        "print(y[:5])"
      ]
    },
    {
      "cell_type": "markdown",
      "metadata": {
        "id": "hgG8sLu0ZVXi"
      },
      "source": [
        "##  Step 3: Split the Data into Training and Test Sets"
      ]
    },
    {
      "cell_type": "code",
      "execution_count": 10,
      "metadata": {
        "id": "JyKFQUCIZQcV"
      },
      "outputs": [],
      "source": [
        "# Split the data into 80% training and 20% testing to evaluate model performance\n",
        "x_train, x_test, y_train, y_test = train_test_split(x, y, test_size=0.2, random_state=42)\n"
      ]
    },
    {
      "cell_type": "code",
      "execution_count": 11,
      "metadata": {
        "id": "ZD5hlx-qZdIP"
      },
      "outputs": [],
      "source": [
        "# Standardize the features\n",
        "sc = StandardScaler()\n",
        "x_train = sc.fit_transform(x_train)\n",
        "x_test = sc.transform(x_test)"
      ]
    },
    {
      "cell_type": "markdown",
      "metadata": {
        "id": "f7z--6WzZq4w"
      },
      "source": [
        "## Step 4: Define Model Parameters for Grid Search"
      ]
    },
    {
      "cell_type": "code",
      "execution_count": 12,
      "metadata": {
        "id": "URFE_ACDZjpD"
      },
      "outputs": [],
      "source": [
        "# Define model parameters for Grid Search\n",
        "model_params = {\n",
        "    'svm': {\n",
        "        'model': svm.SVC(gamma='auto'),\n",
        "        'params': {\n",
        "            'C': [1, 10, 20],\n",
        "            'kernel': ['rbf', 'linear']\n",
        "        }\n",
        "    },\n",
        "    'random_forest': {\n",
        "        'model': RandomForestClassifier(),\n",
        "        'params': {\n",
        "            'n_estimators': [1, 5, 10]\n",
        "        }\n",
        "    },\n",
        "    'logistic_regression': {\n",
        "        'model': LogisticRegression(solver='liblinear', multi_class='auto'),\n",
        "        'params': {\n",
        "            'C': [1, 5, 10]\n",
        "        }\n",
        "    },\n",
        "    'knn': {\n",
        "        'model': KNeighborsClassifier(),\n",
        "        'params': {\n",
        "            'n_neighbors': [3, 5, 10]\n",
        "        }\n",
        "    },\n",
        "    'decision_tree': {\n",
        "        'model': DecisionTreeClassifier(),\n",
        "        'params': {\n",
        "            'max_depth': [None, 5, 10]\n",
        "        }\n",
        "    },\n",
        "    'naive_bayes': {\n",
        "        'model': GaussianNB(),\n",
        "        'params': {}\n",
        "    },\n",
        "    'linear_regression': {\n",
        "        'model': LinearRegression(),\n",
        "        'params': {}\n",
        "    },\n",
        "    'multiple_linear': {\n",
        "        'model': LinearRegression(),\n",
        "        'params': {}\n",
        "    },\n",
        "    'polynomial_regression': {\n",
        "        'model': None,  # Placeholder for polynomial regression\n",
        "        'params': {}\n",
        "    },\n",
        "    'svr': {\n",
        "        'model': SVR(),\n",
        "        'params': {\n",
        "            'kernel': ['linear', 'rbf'],\n",
        "            'C': [1, 10]\n",
        "        }\n",
        "    }\n",
        "}\n"
      ]
    },
    {
      "cell_type": "markdown",
      "metadata": {
        "id": "oojvLoaFZ4fC"
      },
      "source": [
        "## Step 5: Perform Grid Search and Collect Scores"
      ]
    },
    {
      "cell_type": "code",
      "execution_count": 13,
      "metadata": {
        "id": "zpU5EUp4Z6ox"
      },
      "outputs": [],
      "source": [
        "# Initialize an empty list to store scores\n",
        "scores = []\n",
        "\n",
        "# Loop through each model defined in the model_params dictionary\n",
        "for model_name, mp in model_params.items():\n",
        "    # Check if the model is Polynomial Regression\n",
        "    if model_name == 'polynomial_regression':\n",
        "        # Transform the feature data to include polynomial terms\n",
        "        poly = PolynomialFeatures(degree=2)  # Create polynomial features of degree 2\n",
        "        x_train_poly = poly.fit_transform(x_train)  # Fit and transform the training data\n",
        "        x_test_poly = poly.transform(x_test)  # Transform the test data using the same polynomial features\n",
        "\n",
        "        # Initialize and fit a Linear Regression model\n",
        "        clf = LinearRegression()\n",
        "        clf.fit(x_train_poly, y_train)  # Fit the model to the polynomial training data\n",
        "\n",
        "        # Make predictions on the test data and round the results to get binary values\n",
        "        y_pred_poly = clf.predict(x_test_poly)\n",
        "        accuracy = accuracy_score(y_test, np.round(y_pred_poly))  # Calculate accuracy of predictions\n",
        "\n",
        "        # Append the model name, accuracy, and empty parameters to the scores list\n",
        "        scores.append({\n",
        "            'model': model_name,\n",
        "            'best_score': accuracy,  # Store the accuracy for Polynomial Regression\n",
        "            'best_params': {}  # No parameters to report for this model\n",
        "        })\n",
        "        continue  # Skip to the next model in the loop\n",
        "\n",
        "    # For other models, perform Grid Search to find the best hyperparameters\n",
        "    clf = GridSearchCV(mp['model'], mp['params'], cv=5, return_train_score=False)  # Initialize Grid Search\n",
        "    clf.fit(x_train, y_train)  # Fit the model to the training data\n",
        "\n",
        "    # Append the model name, best score, and best parameters to the scores list\n",
        "    scores.append({\n",
        "        'model': model_name,\n",
        "        'best_score': clf.best_score_,  # Store the best accuracy found during Grid Search\n",
        "        'best_params': clf.best_params_  # Store the best parameters found during Grid Search\n",
        "    })\n"
      ]
    },
    {
      "cell_type": "markdown",
      "metadata": {
        "id": "KQpYkZu6aDKx"
      },
      "source": [
        "## Step 6: Convert Results to DataFrame and Print"
      ]
    },
    {
      "cell_type": "code",
      "execution_count": 14,
      "metadata": {
        "colab": {
          "base_uri": "https://localhost:8080/"
        },
        "id": "up4bWPoAZ-bi",
        "outputId": "4aaef270-77ec-4a36-d71e-7e796d73fe35"
      },
      "outputs": [
        {
          "name": "stdout",
          "output_type": "stream",
          "text": [
            "                   model  best_score                 best_params\n",
            "0                    svm    0.973626  {'C': 10, 'kernel': 'rbf'}\n",
            "1          random_forest    0.949451         {'n_estimators': 5}\n",
            "2    logistic_regression    0.978022                    {'C': 5}\n",
            "3                    knn    0.960440          {'n_neighbors': 5}\n",
            "4          decision_tree    0.920879            {'max_depth': 5}\n",
            "5            naive_bayes    0.934066                          {}\n",
            "6      linear_regression    0.692497                          {}\n",
            "7        multiple_linear    0.692497                          {}\n",
            "8  polynomial_regression    0.298246                          {}\n",
            "9                    svr    0.839853   {'C': 1, 'kernel': 'rbf'}\n"
          ]
        }
      ],
      "source": [
        "# Convert scores to a DataFrame for easy visualization\n",
        "df = pd.DataFrame(scores, columns=['model', 'best_score', 'best_params'])\n",
        "print(df)"
      ]
    },
    {
      "cell_type": "markdown",
      "metadata": {
        "id": "ZfecyHf1ajH2"
      },
      "source": [
        "## Step 7: Evaluate the Best Model"
      ]
    },
    {
      "cell_type": "code",
      "execution_count": 15,
      "metadata": {
        "colab": {
          "base_uri": "https://localhost:8080/"
        },
        "id": "CWMQs-yyaKqV",
        "outputId": "a7891418-9d6c-4023-fc04-c790877b3c9d"
      },
      "outputs": [
        {
          "name": "stdout",
          "output_type": "stream",
          "text": [
            "Best Model: logistic_regression, Test Accuracy: 0.9736842105263158\n"
          ]
        }
      ],
      "source": [
        "# Identify the best model based on the highest score in the DataFrame\n",
        "best_model_name = df.loc[df['best_score'].idxmax(), 'model']  # Get the model name with the highest score\n",
        "best_model_params = df.loc[df['best_score'].idxmax(), 'best_params']  # Get the corresponding best parameters\n",
        "\n",
        "# Train the best model with the identified best parameters\n",
        "if best_model_name == 'polynomial_regression':\n",
        "    # For Polynomial Regression, transform the training data again\n",
        "    poly = PolynomialFeatures(degree=2)  # Create polynomial features of degree 2\n",
        "    x_train_poly = poly.fit_transform(x_train)  # Fit and transform the training data\n",
        "    best_model = LinearRegression()  # Initialize a Linear Regression model\n",
        "    best_model.fit(x_train_poly, y_train)  # Fit the model to the polynomial training data\n",
        "else:\n",
        "    # For other models, update the model with the best parameters\n",
        "    best_model = model_params[best_model_name]['model'].set_params(**best_model_params)  # Set the best parameters\n",
        "    best_model.fit(x_train, y_train)  # Fit the model to the training data\n",
        "\n",
        "# Predict and evaluate on the test set\n",
        "if best_model_name == 'polynomial_regression':\n",
        "    x_test_poly = poly.transform(x_test)  # Transform the test data to polynomial features\n",
        "    y_pred_best = best_model.predict(x_test_poly)  # Make predictions using the best model\n",
        "else:\n",
        "    y_pred_best = best_model.predict(x_test)  # Make predictions using the best model for other cases\n",
        "\n",
        "# Calculate the accuracy of the best model on the test set\n",
        "best_accuracy = accuracy_score(y_test, np.round(y_pred_best))  # Evaluate accuracy\n",
        "\n",
        "# Print the name of the best model and its test accuracy\n",
        "print(f\"Best Model: {best_model_name}, Test Accuracy: {best_accuracy}\")\n"
      ]
    },
    {
      "cell_type": "markdown",
      "metadata": {
        "id": "7z_oYEIWauW-"
      },
      "source": [
        "## Step 8: Visualize Model Accuracies"
      ]
    },
    {
      "cell_type": "code",
      "execution_count": 16,
      "metadata": {
        "colab": {
          "base_uri": "https://localhost:8080/",
          "height": 593
        },
        "id": "dIajR9jSaqhv",
        "outputId": "f6845680-14bd-4309-bd82-10e55c8fe2bd"
      },
      "outputs": [
        {
          "data": {
            "image/png": "[encoded data removed]",
            "text/plain": [
              "<Figure size 1000x500 with 1 Axes>"
            ]
          },
          "metadata": {},
          "output_type": "display_data"
        }
      ],
      "source": [
        "# Optional: Visualize the performance of different models\n",
        "plt.figure(figsize=(10, 5))\n",
        "plt.bar(df['model'], df['best_score'])\n",
        "plt.xlabel('Models')\n",
        "plt.ylabel('Best Cross-Validation Score')\n",
        "plt.title('Model Performance Comparison')\n",
        "plt.xticks(rotation=45)\n",
        "plt.show()\n"
      ]
    },
    {
      "cell_type": "code",
      "execution_count": null,
      "metadata": {},
      "outputs": [],
      "source": []
    }
  ],
  "metadata": {
    "colab": {
      "provenance": []
    },
    "kernelspec": {
      "display_name": "Python 3",
      "name": "python3"
    },
    "language_info": {
      "codemirror_mode": {
        "name": "ipython",
        "version": 3
      },
      "file_extension": ".py",
      "mimetype": "text/x-python",
      "name": "python",
      "nbconvert_exporter": "python",
      "pygments_lexer": "ipython3",
      "version": "3.12.6"
    }
  },
  "nbformat": 4,
  "nbformat_minor": 0
}
